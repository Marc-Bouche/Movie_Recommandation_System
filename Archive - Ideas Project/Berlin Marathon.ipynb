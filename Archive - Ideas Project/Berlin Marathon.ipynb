{
 "cells": [
  {
   "cell_type": "code",
   "execution_count": 28,
   "id": "5fe5270f-dc4d-40f8-931e-055d8b7fb7eb",
   "metadata": {},
   "outputs": [
    {
     "name": "stderr",
     "output_type": "stream",
     "text": [
      "/var/folders/t2/40gs14tj4lg2536r26vzcyv40000gn/T/ipykernel_1797/3403146427.py:12: DtypeWarning: Columns (1,3) have mixed types. Specify dtype option on import or set low_memory=False.\n",
      "  master_df=pd.read_csv('Berlin_Marathon_data_1974_2019.csv')\n"
     ]
    }
   ],
   "source": [
    "# Import libraries\n",
    "import string\n",
    "import numpy as np\n",
    "import pandas as pd\n",
    "import matplotlib.pyplot as plt\n",
    "import matplotlib.dates as mdates\n",
    "import seaborn as sns \n",
    "from datetime import datetime, date\n",
    "import scipy.stats as stats\n",
    "import statistics as st\n",
    "\n",
    "master_df=pd.read_csv('Berlin_Marathon_data_1974_2019.csv')"
   ]
  },
  {
   "cell_type": "code",
   "execution_count": null,
   "id": "2c3daaf4-3b24-4836-87a1-af23789e3607",
   "metadata": {},
   "outputs": [],
   "source": []
  }
 ],
 "metadata": {
  "kernelspec": {
   "display_name": "Python 3 (ipykernel)",
   "language": "python",
   "name": "python3"
  },
  "language_info": {
   "codemirror_mode": {
    "name": "ipython",
    "version": 3
   },
   "file_extension": ".py",
   "mimetype": "text/x-python",
   "name": "python",
   "nbconvert_exporter": "python",
   "pygments_lexer": "ipython3",
   "version": "3.12.4"
  }
 },
 "nbformat": 4,
 "nbformat_minor": 5
}
