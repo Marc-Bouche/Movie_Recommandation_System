{
 "cells": [
  {
   "cell_type": "code",
   "execution_count": 9,
   "id": "0e67cd41-0448-4d03-bd2e-3447c88a6948",
   "metadata": {},
   "outputs": [],
   "source": [
    "# Import libraries\n",
    "import string\n",
    "import numpy as np\n",
    "import pandas as pd\n",
    "import matplotlib.pyplot as plt\n",
    "import matplotlib.dates as mdates\n",
    "import seaborn as sns \n",
    "from datetime import datetime, date\n",
    "import scipy.stats as stats\n",
    "import statistics as st\n",
    "\n",
    "df_male=pd.read_csv('Mens_Boston_Marathon_Winners.csv')\n",
    "df_female=pd.read_csv('Womens_Boston_Marathon_Winners.csv')"
   ]
  },
  {
   "cell_type": "code",
   "execution_count": 11,
   "id": "a310c277-b90b-45bc-85da-80166ebba350",
   "metadata": {},
   "outputs": [
    {
     "data": {
      "text/plain": [
       "(126, 6)"
      ]
     },
     "execution_count": 11,
     "metadata": {},
     "output_type": "execute_result"
    }
   ],
   "source": [
    "df_male.shape"
   ]
  },
  {
   "cell_type": "code",
   "execution_count": 13,
   "id": "528ac73c-ccd6-46e2-a1d3-bf1e0d11f3a9",
   "metadata": {},
   "outputs": [
    {
     "data": {
      "text/plain": [
       "(57, 6)"
      ]
     },
     "execution_count": 13,
     "metadata": {},
     "output_type": "execute_result"
    }
   ],
   "source": [
    "df_female.shape"
   ]
  },
  {
   "cell_type": "code",
   "execution_count": 15,
   "id": "27e2005d-4c88-4008-a7b8-3417d2b065ca",
   "metadata": {},
   "outputs": [
    {
     "data": {
      "text/html": [
       "<div>\n",
       "<style scoped>\n",
       "    .dataframe tbody tr th:only-of-type {\n",
       "        vertical-align: middle;\n",
       "    }\n",
       "\n",
       "    .dataframe tbody tr th {\n",
       "        vertical-align: top;\n",
       "    }\n",
       "\n",
       "    .dataframe thead th {\n",
       "        text-align: right;\n",
       "    }\n",
       "</style>\n",
       "<table border=\"1\" class=\"dataframe\">\n",
       "  <thead>\n",
       "    <tr style=\"text-align: right;\">\n",
       "      <th></th>\n",
       "      <th>Year</th>\n",
       "      <th>Winner</th>\n",
       "      <th>Country</th>\n",
       "      <th>Time</th>\n",
       "      <th>Distance (Miles)</th>\n",
       "      <th>Distance (KM)</th>\n",
       "    </tr>\n",
       "  </thead>\n",
       "  <tbody>\n",
       "    <tr>\n",
       "      <th>0</th>\n",
       "      <td>1897.0</td>\n",
       "      <td>John McDermott</td>\n",
       "      <td>United States</td>\n",
       "      <td>02:55:10</td>\n",
       "      <td>24.5</td>\n",
       "      <td>39.4</td>\n",
       "    </tr>\n",
       "    <tr>\n",
       "      <th>1</th>\n",
       "      <td>1898.0</td>\n",
       "      <td>Ronald MacDonald</td>\n",
       "      <td>Canada</td>\n",
       "      <td>02:42:00</td>\n",
       "      <td>24.5</td>\n",
       "      <td>39.4</td>\n",
       "    </tr>\n",
       "    <tr>\n",
       "      <th>2</th>\n",
       "      <td>1899.0</td>\n",
       "      <td>Lawrence Brignolia</td>\n",
       "      <td>United States</td>\n",
       "      <td>02:54:38</td>\n",
       "      <td>24.5</td>\n",
       "      <td>39.4</td>\n",
       "    </tr>\n",
       "    <tr>\n",
       "      <th>3</th>\n",
       "      <td>1900.0</td>\n",
       "      <td>Jack Caffery</td>\n",
       "      <td>Canada</td>\n",
       "      <td>02:39:44</td>\n",
       "      <td>24.5</td>\n",
       "      <td>39.4</td>\n",
       "    </tr>\n",
       "    <tr>\n",
       "      <th>4</th>\n",
       "      <td>1901.0</td>\n",
       "      <td>Jack Caffery</td>\n",
       "      <td>Canada</td>\n",
       "      <td>02:29:23</td>\n",
       "      <td>24.5</td>\n",
       "      <td>39.4</td>\n",
       "    </tr>\n",
       "  </tbody>\n",
       "</table>\n",
       "</div>"
      ],
      "text/plain": [
       "     Year              Winner        Country      Time  Distance (Miles)  \\\n",
       "0  1897.0      John McDermott  United States  02:55:10              24.5   \n",
       "1  1898.0    Ronald MacDonald         Canada  02:42:00              24.5   \n",
       "2  1899.0  Lawrence Brignolia  United States  02:54:38              24.5   \n",
       "3  1900.0        Jack Caffery         Canada  02:39:44              24.5   \n",
       "4  1901.0        Jack Caffery         Canada  02:29:23              24.5   \n",
       "\n",
       "   Distance (KM)  \n",
       "0           39.4  \n",
       "1           39.4  \n",
       "2           39.4  \n",
       "3           39.4  \n",
       "4           39.4  "
      ]
     },
     "execution_count": 15,
     "metadata": {},
     "output_type": "execute_result"
    }
   ],
   "source": [
    "df_male.head()"
   ]
  },
  {
   "cell_type": "code",
   "execution_count": 17,
   "id": "159baa6d-3a2e-4f79-a5f1-16727a2fd601",
   "metadata": {},
   "outputs": [
    {
     "data": {
      "text/html": [
       "<div>\n",
       "<style scoped>\n",
       "    .dataframe tbody tr th:only-of-type {\n",
       "        vertical-align: middle;\n",
       "    }\n",
       "\n",
       "    .dataframe tbody tr th {\n",
       "        vertical-align: top;\n",
       "    }\n",
       "\n",
       "    .dataframe thead th {\n",
       "        text-align: right;\n",
       "    }\n",
       "</style>\n",
       "<table border=\"1\" class=\"dataframe\">\n",
       "  <thead>\n",
       "    <tr style=\"text-align: right;\">\n",
       "      <th></th>\n",
       "      <th>Year</th>\n",
       "      <th>Winner</th>\n",
       "      <th>Country</th>\n",
       "      <th>Time</th>\n",
       "      <th>Distance (Miles)</th>\n",
       "      <th>Distance (KM)</th>\n",
       "    </tr>\n",
       "  </thead>\n",
       "  <tbody>\n",
       "    <tr>\n",
       "      <th>0</th>\n",
       "      <td>1966.0</td>\n",
       "      <td>Bobbi Gibb</td>\n",
       "      <td>United States</td>\n",
       "      <td>3:21:40</td>\n",
       "      <td>26.2</td>\n",
       "      <td>42.2</td>\n",
       "    </tr>\n",
       "    <tr>\n",
       "      <th>1</th>\n",
       "      <td>1967.0</td>\n",
       "      <td>Bobbi Gibb</td>\n",
       "      <td>United States</td>\n",
       "      <td>3:27:17</td>\n",
       "      <td>26.2</td>\n",
       "      <td>42.2</td>\n",
       "    </tr>\n",
       "    <tr>\n",
       "      <th>2</th>\n",
       "      <td>1968.0</td>\n",
       "      <td>Bobbi Gibb</td>\n",
       "      <td>United States</td>\n",
       "      <td>3:30:00</td>\n",
       "      <td>26.2</td>\n",
       "      <td>42.2</td>\n",
       "    </tr>\n",
       "    <tr>\n",
       "      <th>3</th>\n",
       "      <td>1969.0</td>\n",
       "      <td>Sara Mae Berman</td>\n",
       "      <td>United States</td>\n",
       "      <td>3:22:46</td>\n",
       "      <td>26.2</td>\n",
       "      <td>42.2</td>\n",
       "    </tr>\n",
       "    <tr>\n",
       "      <th>4</th>\n",
       "      <td>1970.0</td>\n",
       "      <td>Sara Mae Berman</td>\n",
       "      <td>United States</td>\n",
       "      <td>3:05:07</td>\n",
       "      <td>26.2</td>\n",
       "      <td>42.2</td>\n",
       "    </tr>\n",
       "  </tbody>\n",
       "</table>\n",
       "</div>"
      ],
      "text/plain": [
       "     Year           Winner        Country     Time  Distance (Miles)  \\\n",
       "0  1966.0       Bobbi Gibb  United States  3:21:40              26.2   \n",
       "1  1967.0       Bobbi Gibb  United States  3:27:17              26.2   \n",
       "2  1968.0       Bobbi Gibb  United States  3:30:00              26.2   \n",
       "3  1969.0  Sara Mae Berman  United States  3:22:46              26.2   \n",
       "4  1970.0  Sara Mae Berman  United States  3:05:07              26.2   \n",
       "\n",
       "   Distance (KM)  \n",
       "0           42.2  \n",
       "1           42.2  \n",
       "2           42.2  \n",
       "3           42.2  \n",
       "4           42.2  "
      ]
     },
     "execution_count": 17,
     "metadata": {},
     "output_type": "execute_result"
    }
   ],
   "source": [
    "df_female.head()"
   ]
  },
  {
   "cell_type": "code",
   "execution_count": null,
   "id": "29ca2cbd-3e96-432d-a583-0b8d7409b81a",
   "metadata": {},
   "outputs": [],
   "source": []
  }
 ],
 "metadata": {
  "kernelspec": {
   "display_name": "Python 3 (ipykernel)",
   "language": "python",
   "name": "python3"
  },
  "language_info": {
   "codemirror_mode": {
    "name": "ipython",
    "version": 3
   },
   "file_extension": ".py",
   "mimetype": "text/x-python",
   "name": "python",
   "nbconvert_exporter": "python",
   "pygments_lexer": "ipython3",
   "version": "3.12.4"
  }
 },
 "nbformat": 4,
 "nbformat_minor": 5
}
