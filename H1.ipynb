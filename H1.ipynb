{
 "cells": [
  {
   "cell_type": "code",
   "execution_count": null,
   "id": "ec481e95-a33f-4352-a952-84dd0428fa58",
   "metadata": {},
   "outputs": [],
   "source": [
    "import pandas as pd\n",
    "import requests\n",
    "import time\n",
    "import csv\n",
    "import numpy as np\n",
    "import seaborn as sns\n",
    "import matplotlib.pyplot as plt\n",
    "# Load imbd movies dataset\n",
    "url = '/Users/rishikeshdhokare/Downloads/MergedDataSet/Cleaned/final_merged_file.csv'\n",
    "df = pd.read_csv(url)\n",
    "######### Year column #########\n",
    "df['Year_y'] = np.where(df['Year_y'].isnull(), df['Year_x'], df['Year_y'])\n",
    "df.drop('Year_x', axis=1, inplace=True)\n",
    "\n",
    "######### Year column #########\n",
    "# Merge Genre_x and Genre_y into a new column called 'Genre'\n",
    "df['Genre'] = df['Genre_x'].fillna('') + df['Genre_y'].fillna('')\n",
    "df['Genre'] = df['Genre'].str.strip()\n",
    "\n",
    "df.drop('Genre_x', axis=1, inplace=True)\n",
    "df.drop('Genre_y', axis=1, inplace=True)\n",
    "\n",
    "######### Metascore column #########\n",
    "df['Metascore_y'] = df['Metascore_y'].fillna(df['Metascore_x'])\n",
    "df.drop(columns=['Metascore_x'], inplace=True)\n",
    "df.rename(columns={'Metascore_y': 'Metascore'}, inplace=True)\n",
    "\n",
    "######### Metascore column #########\n",
    "df['Director_y'] = df['Director_y'].fillna(df['Director_x'])\n",
    "df.drop(columns=['Director_x'], inplace=True)\n",
    "df.rename(columns={'Director_y': 'Director'}, inplace=True)\n",
    "\n",
    "df.columns = df.columns.str.replace(r'(_x_x|_x_y|_x|_y)$', '', regex=True)\n",
    "\n",
    "######### imdbRating column #########\n",
    "# Replace null values in 'imdbRating' with values from 'Rating'\n",
    "df['imdbRating'] = df['imdbRating'].fillna(df['Rating'])\n",
    "df.drop(columns=['Rating'], inplace=True)\n",
    "\n",
    "######### Cast column #########\n",
    "df['Cast'] = df['Cast'].fillna(df['Actors'])\n",
    "df.drop('Actors', axis=1, inplace=True)\n",
    "\n",
    "# Drop rows where 'BoxOffice' is NaN or empty\n",
    "df = df.dropna(subset=['BoxOffice'])\n",
    "df = df[df['BoxOffice'] != '']"
   ]
  },
  {
   "cell_type": "code",
   "execution_count": null,
   "id": "57d45370-405e-4435-81d8-ec26a4a352f5",
   "metadata": {},
   "outputs": [],
   "source": [
    "# Step 3: Clean up the genre column (remove spaces if necessary)\n",
    "df['Genre'] = df['Genre'].str.strip()\n",
    "df['Genre']\n",
    "\n",
    "# Step 2: Split the genres into separate rows for movies with multiple genres\n",
    "df = df.assign(Genre = df['Genre'].str.split(',')).explode('Genre')\n",
    "\n",
    "# Step 4: Convert BoxOffice and imdbVotes to numeric (after removing non-numeric characters)\n",
    "df['BoxOffice'] = pd.to_numeric(df['BoxOffice'].replace(r'[\\$,]', '', regex=True), errors='coerce')\n",
    "df['imdbVotes'] = pd.to_numeric(df['imdbVotes'].replace(',', '', regex=True), errors='coerce')\n",
    "\n",
    "# Step 5: Group by Genre and calculate average IMDb rating, vote count, and box office earnings\n",
    "genre_statistics_df = df.groupby('Genre').agg(\n",
    "    avg_rating=('imdbRating', 'mean'),\n",
    "    avg_votes=('imdbVotes', 'mean'),\n",
    "    avg_box_office=('BoxOffice', 'mean')\n",
    ").reset_index()\n",
    "\n",
    "# Step 6: Sort the genres by average rating and votes\n",
    "genre_statistics_df = genre_statistics_df.sort_values(by=['avg_rating', 'avg_votes'], ascending=False)\n"
   ]
  },
  {
   "cell_type": "code",
   "execution_count": null,
   "id": "0206d3c2-17cc-4232-935f-423782e9be1a",
   "metadata": {},
   "outputs": [],
   "source": [
    "# Table 1: Sorted by average rating and vote count (already sorted in previous steps)\n",
    "print(\"Table 1: Sorted by Average Rating and Vote Count\")\n",
    "genre_statistics_df.round(2)"
   ]
  },
  {
   "cell_type": "code",
   "execution_count": null,
   "id": "db2a88ba-d658-45ab-b394-0c4880902622",
   "metadata": {},
   "outputs": [],
   "source": [
    "# Plot 1: Average IMDb Ratings by Genre\n",
    "plt.figure(figsize=(8, 5))\n",
    "sns.barplot(x='avg_rating', y='Genre', data=genre_stats)\n",
    "plt.title('Average IMDb Ratings by Genre')\n",
    "plt.show()"
   ]
  },
  {
   "cell_type": "code",
   "execution_count": null,
   "id": "1ab29345-e613-4920-98e1-00bd91d5afe8",
   "metadata": {},
   "outputs": [],
   "source": [
    "# Table 3: Sorted by avg_box_office in descending order\n",
    "genre_statistics_df['avg_box_office'] = genre_statistics_df['avg_box_office'].astype(str)\n",
    "genre_statistics_df['avg_box_office'] = genre_statistics_df['avg_box_office'].replace({'\\$': '', ',': ''}, regex=True).astype(float)\n",
    "genre_stats_by_box_office = genre_statistics_df.sort_values(by='avg_box_office', ascending=False)\n",
    "print(\"\\nTable 3: Sorted by Average Box Office\")\n",
    "genre_stats_by_box_office.round(2)"
   ]
  },
  {
   "cell_type": "code",
   "execution_count": null,
   "id": "e1fe69f8-a13b-420b-9494-d63c4c0c8ff2",
   "metadata": {},
   "outputs": [],
   "source": [
    "# Table 3: Sorted by avg_box_office in descending order\n",
    "genre_stats_by_box_office = genre_stats.sort_values(by='avg_box_office', ascending=False, key=lambda x: x.str.replace('[$,]', '', regex=True).astype(float))\n",
    "print(\"\\nTable 3: Sorted by Average Box Office\")\n",
    "genre_stats_by_box_office.round(2)"
   ]
  },
  {
   "cell_type": "code",
   "execution_count": null,
   "id": "002eed26-f704-49e3-a38b-fed5aa1413f7",
   "metadata": {},
   "outputs": [],
   "source": [
    "# Plot 2: Average Votes by Genre\n",
    "plt.figure(figsize=(8, 5))\n",
    "sns.barplot(x='avg_votes', y='Genre', data=genre_stats_by_votes)\n",
    "plt.title('Average Votes by Genre')\n",
    "plt.show()"
   ]
  },
  {
   "cell_type": "code",
   "execution_count": null,
   "id": "61705fb3-f434-4dde-8fcf-821b66280fa3",
   "metadata": {},
   "outputs": [],
   "source": [
    "# Plot 3: Average Box Office by Genre\n",
    "plt.figure(figsize=(8, 5))\n",
    "sns.barplot(x='avg_box_office_numeric', y='Genre', data=genre_stats)\n",
    "plt.title('Average Box Office by Genre')\n",
    "plt.show()"
   ]
  },
  {
   "cell_type": "code",
   "execution_count": null,
   "id": "914d1eaf-07a2-4659-9b37-f4ded7f284f2",
   "metadata": {},
   "outputs": [],
   "source": []
  }
 ],
 "metadata": {
  "kernelspec": {
   "display_name": "Python 3 (ipykernel)",
   "language": "python",
   "name": "python3"
  },
  "language_info": {
   "codemirror_mode": {
    "name": "ipython",
    "version": 3
   },
   "file_extension": ".py",
   "mimetype": "text/x-python",
   "name": "python",
   "nbconvert_exporter": "python",
   "pygments_lexer": "ipython3",
   "version": "3.12.4"
  }
 },
 "nbformat": 4,
 "nbformat_minor": 5
}
